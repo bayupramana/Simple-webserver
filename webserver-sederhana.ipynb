{
 "cells": [
  {
   "cell_type": "code",
   "execution_count": 1,
   "metadata": {},
   "outputs": [],
   "source": [
    "# import library socket karena akan digunakan request reply protocol sederhana\n",
    "import socket as sock"
   ]
  },
  {
   "cell_type": "code",
   "execution_count": 2,
   "metadata": {},
   "outputs": [],
   "source": [
    "# definisikan IP dan port dari webserver yang akan kita gunakan. Port HTTP adalah 80\n",
    "HOST = '127.0.0.1'\n",
    "PORT = 1332\n",
    "BUFF = 1024"
   ]
  },
  {
   "cell_type": "code",
   "execution_count": 3,
   "metadata": {},
   "outputs": [],
   "source": [
    "# buat socket bertipe TCP\n",
    "socket = sock.socket(sock.AF_INET, sock.SOCK_STREAM)"
   ]
  },
  {
   "cell_type": "code",
   "execution_count": 4,
   "metadata": {},
   "outputs": [],
   "source": [
    "# lakukan binding\n",
    "socket.bind((HOST, PORT))"
   ]
  },
  {
   "cell_type": "code",
   "execution_count": 5,
   "metadata": {},
   "outputs": [],
   "source": [
    "# socket mendengarkan\n",
    "socket.listen()"
   ]
  },
  {
   "cell_type": "code",
   "execution_count": 6,
   "metadata": {},
   "outputs": [
    {
     "name": "stdout",
     "output_type": "stream",
     "text": [
      "Server is running on HTTP with  1332  port\n"
     ]
    }
   ],
   "source": [
    "# tampilkan dengan print () \"Server berjalan dan melayani HTTP pada port xx\"\n",
    "print('Server is running on HTTP with ', PORT, ' port')"
   ]
  },
  {
   "cell_type": "code",
   "execution_count": null,
   "metadata": {},
   "outputs": [
    {
     "name": "stdout",
     "output_type": "stream",
     "text": [
      "GET / HTTP/1.1\n",
      "Host: 127.0.0.1:1332\n",
      "Connection: keep-alive\n",
      "Cache-Control: max-age=0\n",
      "Upgrade-Insecure-Requests: 1\n",
      "User-Agent: Mozilla/5.0 (Windows NT 10.0; Win64; x64) AppleWebKit/537.36 (KHTML, like Gecko) Chrome/79.0.3945.130 Safari/537.36\n",
      "Sec-Fetch-User: ?1\n",
      "Accept: text/html,application/xhtml+xml,application/xml;q=0.9,image/webp,image/apng,*/*;q=0.8,application/signed-exchange;v=b3;q=0.9\n",
      "Sec-Fetch-Site: none\n",
      "Sec-Fetch-Mode: navigate\n",
      "Accept-Encoding: gzip, deflate, br\n",
      "Accept-Language: id-ID,id;q=0.9,en-US;q=0.8,en;q=0.7\n",
      "\n",
      "\n",
      "\n",
      "GET /favicon.ico HTTP/1.1\n",
      "Host: 127.0.0.1:1332\n",
      "Connection: keep-alive\n",
      "User-Agent: Mozilla/5.0 (Windows NT 10.0; Win64; x64) AppleWebKit/537.36 (KHTML, like Gecko) Chrome/79.0.3945.130 Safari/537.36\n",
      "Accept: image/webp,image/apng,image/*,*/*;q=0.8\n",
      "Sec-Fetch-Site: same-origin\n",
      "Sec-Fetch-Mode: no-cors\n",
      "Referer: http://127.0.0.1:1332/\n",
      "Accept-Encoding: gzip, deflate, br\n",
      "Accept-Language: id-ID,id;q=0.9,en-US;q=0.8,en;q=0.7\n",
      "\n",
      "\n"
     ]
    }
   ],
   "source": [
    "# loop forever\n",
    "while True:\n",
    "    # socket menerima koneksi\n",
    "    conn, addr = socket.accept()\n",
    "    \n",
    "    # socket menerima data\n",
    "    data = conn.recv(BUFF)\n",
    "    \n",
    "    \n",
    "    # print data hasil koneksi\n",
    "    print(data.decode())\n",
    "    \n",
    "    # buat response sesuai spesifikasi HTTP untuk diberikan kepada client\n",
    "    http_response = \"\"\"\\HTTP/1.1 200 OK\n",
    "    \n",
    "<html>\n",
    "<head>\n",
    "<title>Web Server Sederhana</title>\n",
    "</head>\n",
    "<body>\n",
    "\n",
    "<h1>Heading 1</h1>\n",
    "<p>Ini adalah contoh paragraf.</p>\n",
    "<img src=\"https://www.surfertoday.com/images/stories/surfetiquette.jpg\">\n",
    "\n",
    "</body>\n",
    "</html>\n",
    "\"\"\"\n",
    "    # kirim response kepada client dengan sendall() jangan lupa diencode response dengan utf-8 \n",
    "    conn.sendall(http_response.encode('utf8'))\n",
    "    \n",
    "    # tutup koneksi\n",
    "    conn.close()\n",
    "\n",
    "# Selamat! Kamu telah berhasil membuat web server sederhana. "
   ]
  },
  {
   "cell_type": "code",
   "execution_count": null,
   "metadata": {},
   "outputs": [],
   "source": []
  }
 ],
 "metadata": {
  "kernelspec": {
   "display_name": "Python 3",
   "language": "python",
   "name": "python3"
  },
  "language_info": {
   "codemirror_mode": {
    "name": "ipython",
    "version": 3
   },
   "file_extension": ".py",
   "mimetype": "text/x-python",
   "name": "python",
   "nbconvert_exporter": "python",
   "pygments_lexer": "ipython3",
   "version": "3.7.3"
  }
 },
 "nbformat": 4,
 "nbformat_minor": 2
}
